{
 "cells": [
  {
   "cell_type": "markdown",
   "id": "dd39d834",
   "metadata": {},
   "source": [
    "# Profiling Artifact Explorer\n",
    "\n",
    "This notebook inspects everything under `profiles/` (CPU, GPU, trace, and response outputs) and builds visual + tabular analyses to spot performance culprits (CPU vs GPU bottlenecks, hot functions, underutilization patterns)."
   ]
  },
  {
   "cell_type": "code",
   "execution_count": 3,
   "id": "b3fcdbd5",
   "metadata": {},
   "outputs": [
    {
     "data": {
      "text/html": [
       "<div>\n",
       "<style scoped>\n",
       "    .dataframe tbody tr th:only-of-type {\n",
       "        vertical-align: middle;\n",
       "    }\n",
       "\n",
       "    .dataframe tbody tr th {\n",
       "        vertical-align: top;\n",
       "    }\n",
       "\n",
       "    .dataframe thead th {\n",
       "        text-align: right;\n",
       "    }\n",
       "</style>\n",
       "<table border=\"1\" class=\"dataframe\">\n",
       "  <thead>\n",
       "    <tr style=\"text-align: right;\">\n",
       "      <th></th>\n",
       "      <th>relative</th>\n",
       "      <th>size_bytes</th>\n",
       "      <th>modified</th>\n",
       "      <th>ext</th>\n",
       "    </tr>\n",
       "  </thead>\n",
       "  <tbody>\n",
       "  </tbody>\n",
       "</table>\n",
       "</div>"
      ],
      "text/plain": [
       "Empty DataFrame\n",
       "Columns: [relative, size_bytes, modified, ext]\n",
       "Index: []"
      ]
     },
     "execution_count": 3,
     "metadata": {},
     "output_type": "execute_result"
    }
   ],
   "source": [
    "# Section 1: Enumerate Profile Directory Contents\n",
    "from pathlib import Path\n",
    "import pandas as pd\n",
    "import os, time\n",
    "BASE = Path(\"profiles\")\n",
    "rows = []\n",
    "for p in BASE.rglob('*'):\n",
    "    if p.is_file():\n",
    "        stat = p.stat()\n",
    "        rows.append({\n",
    "            'relative': p.relative_to(BASE).as_posix(),\n",
    "            'size_bytes': stat.st_size,\n",
    "            'modified': time.strftime('%Y-%m-%d %H:%M:%S', time.gmtime(stat.st_mtime)),\n",
    "            'ext': p.suffix.lower()\n",
    "        })\n",
    "if rows:\n",
    "    files_df = pd.DataFrame(rows)\n",
    "    if 'relative' in files_df.columns:\n",
    "        files_df = files_df.sort_values('relative')\n",
    "else:\n",
    "    files_df = pd.DataFrame(columns=['relative','size_bytes','modified','ext'])\n",
    "files_df"
   ]
  },
  {
   "cell_type": "code",
   "execution_count": 4,
   "id": "5e35c149",
   "metadata": {},
   "outputs": [
    {
     "data": {
      "text/html": [
       "<div>\n",
       "<style scoped>\n",
       "    .dataframe tbody tr th:only-of-type {\n",
       "        vertical-align: middle;\n",
       "    }\n",
       "\n",
       "    .dataframe tbody tr th {\n",
       "        vertical-align: top;\n",
       "    }\n",
       "\n",
       "    .dataframe thead th {\n",
       "        text-align: right;\n",
       "    }\n",
       "</style>\n",
       "<table border=\"1\" class=\"dataframe\">\n",
       "  <thead>\n",
       "    <tr style=\"text-align: right;\">\n",
       "      <th></th>\n",
       "    </tr>\n",
       "  </thead>\n",
       "  <tbody>\n",
       "  </tbody>\n",
       "</table>\n",
       "</div>"
      ],
      "text/plain": [
       "Empty DataFrame\n",
       "Columns: []\n",
       "Index: []"
      ]
     },
     "execution_count": 4,
     "metadata": {},
     "output_type": "execute_result"
    }
   ],
   "source": [
    "# Section 2: Infer File Types and Metadata\n",
    "import re\n",
    "meta_rows = []\n",
    "pattern = re.compile(r'(trace|dmon|mpstat|response)_(\\d{8}T\\d{6})')\n",
    "for _, r in files_df.iterrows():\n",
    "    m = pattern.search(r['relative'])\n",
    "    run_id = m.group(2) if m else None\n",
    "    kind = m.group(1) if m else None\n",
    "    meta_rows.append({**r, 'run_id': run_id, 'kind': kind})\n",
    "meta_df = pd.DataFrame(meta_rows)\n",
    "meta_df"
   ]
  },
  {
   "cell_type": "code",
   "execution_count": 5,
   "id": "a90409a2",
   "metadata": {},
   "outputs": [
    {
     "ename": "KeyError",
     "evalue": "'relative'",
     "output_type": "error",
     "traceback": [
      "\u001b[0;31m---------------------------------------------------------------------------\u001b[0m",
      "\u001b[0;31mKeyError\u001b[0m                                  Traceback (most recent call last)",
      "Cell \u001b[0;32mIn[5], line 16\u001b[0m\n\u001b[1;32m     13\u001b[0m         \u001b[38;5;28;01mreturn\u001b[39;00m \u001b[38;5;124m'\u001b[39m\u001b[38;5;124mresponse\u001b[39m\u001b[38;5;124m'\u001b[39m\n\u001b[1;32m     14\u001b[0m     \u001b[38;5;28;01mreturn\u001b[39;00m \u001b[38;5;124m'\u001b[39m\u001b[38;5;124mother\u001b[39m\u001b[38;5;124m'\u001b[39m\n\u001b[0;32m---> 16\u001b[0m meta_df[\u001b[38;5;124m'\u001b[39m\u001b[38;5;124mclass\u001b[39m\u001b[38;5;124m'\u001b[39m] \u001b[38;5;241m=\u001b[39m \u001b[43mmeta_df\u001b[49m\u001b[43m[\u001b[49m\u001b[38;5;124;43m'\u001b[39;49m\u001b[38;5;124;43mrelative\u001b[39;49m\u001b[38;5;124;43m'\u001b[39;49m\u001b[43m]\u001b[49m\u001b[38;5;241m.\u001b[39mapply(classify_file)\n\u001b[1;32m     17\u001b[0m meta_df\n",
      "File \u001b[0;32m~/.local/lib/python3.10/site-packages/pandas/core/frame.py:4107\u001b[0m, in \u001b[0;36mDataFrame.__getitem__\u001b[0;34m(self, key)\u001b[0m\n\u001b[1;32m   4105\u001b[0m \u001b[38;5;28;01mif\u001b[39;00m \u001b[38;5;28mself\u001b[39m\u001b[38;5;241m.\u001b[39mcolumns\u001b[38;5;241m.\u001b[39mnlevels \u001b[38;5;241m>\u001b[39m \u001b[38;5;241m1\u001b[39m:\n\u001b[1;32m   4106\u001b[0m     \u001b[38;5;28;01mreturn\u001b[39;00m \u001b[38;5;28mself\u001b[39m\u001b[38;5;241m.\u001b[39m_getitem_multilevel(key)\n\u001b[0;32m-> 4107\u001b[0m indexer \u001b[38;5;241m=\u001b[39m \u001b[38;5;28;43mself\u001b[39;49m\u001b[38;5;241;43m.\u001b[39;49m\u001b[43mcolumns\u001b[49m\u001b[38;5;241;43m.\u001b[39;49m\u001b[43mget_loc\u001b[49m\u001b[43m(\u001b[49m\u001b[43mkey\u001b[49m\u001b[43m)\u001b[49m\n\u001b[1;32m   4108\u001b[0m \u001b[38;5;28;01mif\u001b[39;00m is_integer(indexer):\n\u001b[1;32m   4109\u001b[0m     indexer \u001b[38;5;241m=\u001b[39m [indexer]\n",
      "File \u001b[0;32m~/.local/lib/python3.10/site-packages/pandas/core/indexes/range.py:417\u001b[0m, in \u001b[0;36mRangeIndex.get_loc\u001b[0;34m(self, key)\u001b[0m\n\u001b[1;32m    415\u001b[0m         \u001b[38;5;28;01mraise\u001b[39;00m \u001b[38;5;167;01mKeyError\u001b[39;00m(key) \u001b[38;5;28;01mfrom\u001b[39;00m\u001b[38;5;250m \u001b[39m\u001b[38;5;21;01merr\u001b[39;00m\n\u001b[1;32m    416\u001b[0m \u001b[38;5;28;01mif\u001b[39;00m \u001b[38;5;28misinstance\u001b[39m(key, Hashable):\n\u001b[0;32m--> 417\u001b[0m     \u001b[38;5;28;01mraise\u001b[39;00m \u001b[38;5;167;01mKeyError\u001b[39;00m(key)\n\u001b[1;32m    418\u001b[0m \u001b[38;5;28mself\u001b[39m\u001b[38;5;241m.\u001b[39m_check_indexing_error(key)\n\u001b[1;32m    419\u001b[0m \u001b[38;5;28;01mraise\u001b[39;00m \u001b[38;5;167;01mKeyError\u001b[39;00m(key)\n",
      "\u001b[0;31mKeyError\u001b[0m: 'relative'"
     ]
    }
   ],
   "source": [
    "# Section 16 (placed early for reuse): Helper Utilities\n",
    "import json, statistics\n",
    "from typing import Dict, Any\n",
    "\n",
    "# Guarantee expected columns exist even if meta_df was created from zero rows\n",
    "expected_cols = ['relative','size_bytes','modified','ext','run_id','kind']\n",
    "for c in expected_cols:\n",
    "    if c not in meta_df.columns:\n",
    "        meta_df[c] = None\n",
    "\n",
    "def classify_file(path: str) -> str:\n",
    "    if not isinstance(path, str):\n",
    "        return 'unknown'\n",
    "    if path.endswith('.json') and 'trace_' in path:\n",
    "        return 'torch_trace'\n",
    "    if 'dmon_' in path:\n",
    "        return 'gpu_dmon'\n",
    "    if 'mpstat_' in path:\n",
    "        return 'cpu_mpstat'\n",
    "    if 'response_' in path:\n",
    "        return 'response'\n",
    "    return 'other'\n",
    "\n",
    "if 'relative' in meta_df.columns:\n",
    "    meta_df['class'] = meta_df['relative'].apply(classify_file)\n",
    "else:\n",
    "    meta_df['class'] = []\n",
    "meta_df"
   ]
  },
  {
   "cell_type": "code",
   "execution_count": null,
   "id": "a665930a",
   "metadata": {},
   "outputs": [],
   "source": [
    "# Section 7: Parse GPU dmon and CPU mpstat Logs\n",
    "import pandas as pd\n",
    "from io import StringIO\n",
    "\n",
    "def load_dmon(path: Path) -> pd.DataFrame:\n",
    "    txt = path.read_text()\n",
    "    lines = [l for l in txt.splitlines() if l and not l.startswith('#')]\n",
    "    if not lines:\n",
    "        return pd.DataFrame()\n",
    "    cols = ['date','time','gpu','pwr','gtemp','mtemp','sm','mem','enc','dec','jpg','ofa','mclk','pclk','pviol','tviol','fb','bar1','ccpm','sbecc','dbecc','pci','rxpci','txpci']\n",
    "    data=[]\n",
    "    for l in lines:\n",
    "        parts=l.split()\n",
    "        if len(parts) < len(cols):\n",
    "            continue\n",
    "        row=dict(zip(cols,parts[:len(cols)]))\n",
    "        data.append(row)\n",
    "    df=pd.DataFrame(data)\n",
    "    numeric=['pwr','gtemp','mtemp','sm','mem','mclk','pclk','fb']\n",
    "    for c in numeric:\n",
    "        df[c]=pd.to_numeric(df[c], errors='coerce')\n",
    "    df['ts']=pd.to_datetime(df['date']+' '+df['time'])\n",
    "    return df\n",
    "\n",
    "def load_mpstat(path: Path) -> pd.DataFrame:\n",
    "    lines=path.read_text().splitlines()\n",
    "    rows=[]\n",
    "    for l in lines:\n",
    "        if not l or l.startswith('Linux') or l.startswith('CPU ') or l.startswith('04:'): # rely on repeating header\n",
    "            pass\n",
    "        parts=l.split()\n",
    "        if len(parts)==11 and parts[1].isdigit():\n",
    "            # time line grouped earlier; skip\n",
    "            continue\n",
    "    # Simplified placeholder: real parser would extract per-core; omitted for brevity\n",
    "    return pd.DataFrame()\n",
    "\n",
    "gpu_df = pd.DataFrame()\n",
    "for p in BASE.glob('nvidia/dmon_*.log'):\n",
    "    gpu_df = load_dmon(p)\n",
    "    break\n",
    "gpu_df.head()"
   ]
  },
  {
   "cell_type": "code",
   "execution_count": null,
   "id": "65e1ec48",
   "metadata": {},
   "outputs": [],
   "source": [
    "# Section: Heuristic Classification (GPU vs CPU bound)\n",
    "classification = {}\n",
    "if not gpu_df.empty:\n",
    "    mean_sm = gpu_df['sm'].mean()\n",
    "    peak_sm = gpu_df['sm'].max()\n",
    "    mem_bw = gpu_df['mem'].mean()\n",
    "    classification['mean_sm'] = mean_sm\n",
    "    classification['peak_sm'] = peak_sm\n",
    "    classification['mean_mem_util'] = mem_bw\n",
    "    if mean_sm < 50:\n",
    "        classification['verdict'] = 'Likely CPU / launch bound (low average SM utilization)'\n",
    "    else:\n",
    "        classification['verdict'] = 'GPU fairly utilized; inspect kernel efficiency next'\n",
    "classification"
   ]
  }
 ],
 "metadata": {
  "kernelspec": {
   "display_name": "Python 3",
   "language": "python",
   "name": "python3"
  },
  "language_info": {
   "codemirror_mode": {
    "name": "ipython",
    "version": 3
   },
   "file_extension": ".py",
   "mimetype": "text/x-python",
   "name": "python",
   "nbconvert_exporter": "python",
   "pygments_lexer": "ipython3",
   "version": "3.10.12"
  }
 },
 "nbformat": 4,
 "nbformat_minor": 5
}
